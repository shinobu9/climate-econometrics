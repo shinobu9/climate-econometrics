{
 "cells": [
  {
   "cell_type": "markdown",
   "metadata": {
    "_uuid": "f6e52e61e4ba3ddcbd3d72403493e9553617c06f"
   },
   "source": [
    "# Моделирование временных рядов\n",
    "\n",
    "Есть данные, которые зависят от времени, то еть сегодняшние значения могут иметь эффективную связь со значениями, наблюдаемыми в прошлом.\n",
    "\n",
    "Например, спрос на продукты в течение определенного периода, урожай, цены на акции и, конечно, то, что мы попытаемся предсказать, изменение климата в Рио-де-Жанейро.\n",
    "\n",
    "В настоящее время существует несколько типов моделей прогнозирования временных рядов, мы используем ARIMA. [Seasonal ARIMA Models](https://en.wikipedia.org/wiki/Autoregressive_integrated_moving_average )\n",
    "\n",
    "Импорт необходимых библиотек:"
   ]
  },
  {
   "cell_type": "code",
   "execution_count": 2,
   "metadata": {
    "_cell_guid": "b1076dfc-b9ad-4769-8c92-a6c4dae69d19",
    "_uuid": "8f2839f25d086af736a60e9eeb907d3b93b6e0e5",
    "execution": {
     "iopub.execute_input": "2022-06-29T18:31:13.835428Z",
     "iopub.status.busy": "2022-06-29T18:31:13.834954Z",
     "iopub.status.idle": "2022-06-29T18:31:15.690632Z",
     "shell.execute_reply": "2022-06-29T18:31:15.689794Z",
     "shell.execute_reply.started": "2022-06-29T18:31:13.835347Z"
    }
   },
   "outputs": [],
   "source": [
    "import numpy as np \n",
    "import pandas as pd \n",
    "import matplotlib.pyplot as plt\n",
    "import seaborn as sns\n",
    "import statsmodels.api as sm\n",
    "from statsmodels.tsa.stattools import adfuller\n",
    "from statsmodels.graphics.tsaplots import plot_acf, plot_pacf\n",
    "from sklearn.metrics import mean_squared_error\n",
    "from math import sqrt\n",
    "import warnings\n",
    "warnings.filterwarnings('ignore')\n",
    "%matplotlib inline"
   ]
  },
  {
   "cell_type": "code",
   "execution_count": 3,
   "metadata": {
    "_cell_guid": "79c7e3d0-c299-4dcb-8224-4455121ee9b0",
    "_uuid": "d629ff2d2480ee46fbb7e2d37f6b5fab8052498a",
    "execution": {
     "iopub.execute_input": "2022-06-29T18:31:15.692415Z",
     "iopub.status.busy": "2022-06-29T18:31:15.692156Z",
     "iopub.status.idle": "2022-06-29T18:31:30.952889Z",
     "shell.execute_reply": "2022-06-29T18:31:30.951891Z",
     "shell.execute_reply.started": "2022-06-29T18:31:15.692364Z"
    }
   },
   "outputs": [],
   "source": [
    "#Чтение и подготовка файла\n",
    "cities = pd.read_csv('../input/GlobalLandTemperaturesByCity.csv')\n",
    "rio = cities.loc[cities['City'] == 'Rio De Janeiro', ['dt','AverageTemperature']]\n",
    "rio.columns = ['Date','Temp']\n",
    "rio['Date'] = pd.to_datetime(rio['Date'])\n",
    "rio.reset_index(drop=True, inplace=True)\n",
    "rio.set_index('Date', inplace=True)\n",
    "\n",
    "#Мы рассматриваем температуру с 1900 до конца 2012 года\n",
    "rio = rio.loc['1900':'2013-01-01']\n",
    "rio = rio.asfreq('M', method='bfill')\n",
    "rio.head()"
   ]
  },
  {
   "cell_type": "markdown",
   "metadata": {
    "_uuid": "7a0b92284f4165be470bb19c024caa647070aa15"
   },
   "source": [
    "Краткое объяснение моделей ARIMA:\n",
    "\n",
    "# <font color=green>Модель SARIMA (p, d, q)(P, D, Q, S)</font>:\n",
    "SARIMA расшифровывается как Сезонная авторегрессионная интегрированная скользящая средняя.\n",
    "\n",
    "## <font color=green>Не сезонная ARIMA</font>:\n",
    "\n",
    "Можно разделить ARIMA аббревеатуру на три части - AR, I, MA:\n",
    "\n",
    " * **AR(p)** означает *авторегрессионная модель*, параметр `p` - это целое число которое показывает, как много предыдущих рядов будет использоваться для прогнозирования следующего, например:\n",
    "     * Средняя температура вчера имеет высокую корреляцию. с сегодняшней температурой, тогда мы будем использовать параметр AR(1) для прогнозирования температуры в будущем.\n",
    "     * Формула для модели AR(p): $\\hat{y}_{t} = \\mu + \\theta_{1}Y_{t-1} + ... + \\theta_{p}Y_{t-p}$, где $\\mu$ - константа, **p** - количество периодов, использующихся в регрессии, и $\\theta$ - параметр, зависящий от данных.\n",
    "     \n",
    "     \n",
    " * **I(d)** это разностная часть, где параметр `d` показывает, сколько разностных частей будет использоваться. Она пытается сделать ряд стационарным, например:\n",
    " \n",
    "     * Вчера было продано 10 едениц продукта, сегодна - 14, \"I\" в этом случае - первая разность, равная +4. Если использовать логарифм, то разность будет показывать процентное изменение. \n",
    "     * Если d = 1: $y_{t} = Y_{t} - Y_{t-1}$, где $y_{t}$ это разностный ряд и $Y_{t-period}$ - оригинальный ряд\n",
    "     * Если d = 2: $y_{t} = (Y_{t} - Y_{t-1}) - (Y_{t-1} - Y_{t-2}) = Y_{t} - 2Y_{t-1} + Y_{t-2}$\n",
    "     * То есть вторая разность - это изменение в изменении, которое является мерой локального \"ускорения\", а не тренда.\n",
    "\n",
    "* **MA(q)** расшифровывается как *модель скользящего среднего*, где `q` - это количество членов с запаздывающими ошибками прогноза в уравнении прогноза, например:\n",
    "     * MA учитывает процент ошибок между прогнозируемым значением и реальным. Это предполагает, что прошлые ошибки будут аналогичны в будущих событиях.\n",
    "     * Формула для модели MA(q): $\\hat{y}_{t} = \\mu - \\Theta_{1}e_{t-1} + ... + \\Theta_{q}e_{t-q}$, где $\\mu$ - константа, **q** - количество периодов, рассматривыемых ошибок $e$ и $\\Theta$ - параметр, зависящий от ошибок\n",
    "     * Уравнение ошибки: $ e_{t} = Y_{t-1} - \\hat{y}_{t-1}$\n",
    "     \n",
    "## <font color=green>Seasonal ARIMA</font>:\n",
    "\n",
    "Параметры **p, d, q** пишутся заглавными буквами, чтобы отличать их от параметро не сезонной модели.\n",
    "\n",
    "* **SAR(P)** - это сезонная авторегрессия рядов.\n",
    "    * Формула для модели SAR(P): $\\hat{y}_{t} = \\mu + \\theta_{1}Y_{t-s}$, где P это количество авторегрессионных периодов, обычно не больше одного, **s** - насколько старый период будет взят базисным и $\\theta$ - параметр, зависящий от данных.\n",
    "    * Обычно, когда речь идет о прогнозировании погоды, тот же месяц предыдущего года несёт информацию, влияющую на текущий период.\n",
    "    * Установка P=1 (т.е., SAR(1)) добавляет множитель $Y_{t-s}$ к пронозу для $y_{t}$.\n",
    "    \n",
    "* **I(D)** сезонная разница должна использоваться, когда есть сильный и стабильный паттерн.\n",
    "     * Если d = 0 и D = 1: $y_{t} = Y_{t} - Y_{t-s}$, где $y_{t}$ это разностный ряд и $Y_{t-s}$ оригинальное сезонное отставание.\n",
    "     * Если d =1 и D = 1: $y_{t} = (Y_{t} - Y_{t-1}) - (Y_{t-s} - Y_{t-s-1}) = Y_{t} - Y_{t-1} -Y_{t-s} + Y_{t-s-1}$\n",
    "     * D никогда не должно быть больше 1, а d+D никогда не должно быть больше 2. Кроме того, если d+D = 2, постоянный член должен быть исключен.\n",
    "     \n",
    "* **SMA(Q)** \n",
    "     * Установка Q=1 (т.е., SMA(1)) добавляет множитель ошибки $e_{t-s}$ к прогнозу для $y_{t}$.\n",
    "\n",
    "\n",
    "* **S** Это сезонный период в течение которого мы будем вычислять переменные P, D, Q. Если существует сезонная корреляция в 52 недели, то это число будет использоваться в параметре \"S\".\n",
    "  \n",
    "  ## <font color=green>Тренд</font>:\n",
    "  \n",
    "Мы использовали [SARIMAX](https://www.statsmodels.org/dev/generated/statsmodels.tsa.statespace.sarimax.SARIMAX.html) для создания прогноза. Следующие переменные описывают тренд:\n",
    "\n",
    " * 'n' когда тренд не используется (стандартно).\n",
    " * ‘c’ указывает на константу (т.е. компонент нулевой степени многочлена тренда)\n",
    " * ‘t’ указывает на линейный тренд со временем\n",
    " * ‘ct’ одновременно и тренд и константа\n"
   ]
  },
  {
   "cell_type": "markdown",
   "metadata": {
    "_uuid": "695ca46d08a15e74721534761261fa8ced799313"
   },
   "source": [
    "Построение графика"
   ]
  },
  {
   "cell_type": "code",
   "execution_count": 4,
   "metadata": {
    "_uuid": "53d39c22f9162eb0954797b852ad7010f1e00e96",
    "execution": {
     "iopub.execute_input": "2022-06-29T18:31:30.954238Z",
     "iopub.status.busy": "2022-06-29T18:31:30.954030Z",
     "iopub.status.idle": "2022-06-29T18:31:32.198683Z",
     "shell.execute_reply": "2022-06-29T18:31:32.197654Z",
     "shell.execute_reply.started": "2022-06-29T18:31:30.954207Z"
    }
   },
   "outputs": [],
   "source": [
    "plt.figure(figsize=(22,6))\n",
    "sns.lineplot(x=rio.index, y=rio['Temp'])\n",
    "plt.title('Temperature Variation in Rio de Janeiro from 1900 until 2012')\n",
    "plt.show()"
   ]
  },
  {
   "cell_type": "code",
   "execution_count": 5,
   "metadata": {
    "_uuid": "5fb45d99d4c4ad715133575234d0bbf5dcd00d76",
    "execution": {
     "iopub.execute_input": "2022-06-29T18:31:32.200684Z",
     "iopub.status.busy": "2022-06-29T18:31:32.200370Z",
     "iopub.status.idle": "2022-06-29T18:31:33.100036Z",
     "shell.execute_reply": "2022-06-29T18:31:33.099166Z",
     "shell.execute_reply.started": "2022-06-29T18:31:32.200623Z"
    }
   },
   "outputs": [],
   "source": [
    "# сводная таблица для построения графиков месячных температур по годам\n",
    "rio['month'] = rio.index.month\n",
    "rio['year'] = rio.index.year\n",
    "pivot = pd.pivot_table(rio, values='Temp', index='month', columns='year', aggfunc='mean')\n",
    "pivot.plot(figsize=(20,6))\n",
    "plt.title('Yearly Rio temperatures')\n",
    "plt.xlabel('Months')\n",
    "plt.ylabel('Temperatures')\n",
    "plt.xticks([x for x in range(1,13)])\n",
    "plt.legend().remove()\n",
    "plt.show()"
   ]
  },
  {
   "cell_type": "markdown",
   "metadata": {
    "_uuid": "2e7a2b3788a809533c519f485e417e860de74b93"
   },
   "source": [
    "Ряд явно имеет некоторую сезонность, более высокие температуры приходятся на май-мюль, а более низкие - на период с ноября по январь. Для большей ясности сделаем график с усредненными месячными температурами."
   ]
  },
  {
   "cell_type": "code",
   "execution_count": 6,
   "metadata": {
    "_uuid": "f7627e89b1fc27ae6327dab1e75dd885bcc244b6",
    "execution": {
     "iopub.execute_input": "2022-06-29T18:31:33.101618Z",
     "iopub.status.busy": "2022-06-29T18:31:33.101380Z",
     "iopub.status.idle": "2022-06-29T18:31:33.462418Z",
     "shell.execute_reply": "2022-06-29T18:31:33.461662Z",
     "shell.execute_reply.started": "2022-06-29T18:31:33.101574Z"
    }
   },
   "outputs": [],
   "source": [
    "monthly_seasonality = pivot.mean(axis=1)\n",
    "monthly_seasonality.plot(figsize=(20,6))\n",
    "plt.title('Monthly Temperatures in Rio de Janeiro')\n",
    "plt.xlabel('Months')\n",
    "plt.ylabel('Temperature')\n",
    "plt.xticks([x for x in range(1,13)])\n",
    "plt.show()"
   ]
  },
  {
   "cell_type": "markdown",
   "metadata": {
    "_uuid": "d8954d6f71a4d8c4300fc4eb81eb08f363d88667"
   },
   "source": [
    "Теперь проверим, есть ли в этом ряде какая-нибудь тенденция, сохраняющаяся на протяжении многих лет:"
   ]
  },
  {
   "cell_type": "code",
   "execution_count": 7,
   "metadata": {
    "_uuid": "58718ef51d2dd7fbc7f99484bf32e9f1abbd3a5b",
    "execution": {
     "iopub.execute_input": "2022-06-29T18:31:33.463812Z",
     "iopub.status.busy": "2022-06-29T18:31:33.463590Z",
     "iopub.status.idle": "2022-06-29T18:31:33.960263Z",
     "shell.execute_reply": "2022-06-29T18:31:33.959368Z",
     "shell.execute_reply.started": "2022-06-29T18:31:33.463770Z"
    }
   },
   "outputs": [],
   "source": [
    "year_avg = pd.pivot_table(rio, values='Temp', index='year', aggfunc='mean')\n",
    "year_avg['10 Years MA'] = year_avg['Temp'].rolling(10).mean()\n",
    "year_avg[['Temp','10 Years MA']].plot(figsize=(20,6))\n",
    "plt.title('Yearly AVG Temperatures in Rio de Janeiro')\n",
    "plt.xlabel('Months')\n",
    "plt.ylabel('Temperature')\n",
    "plt.xticks([x for x in range(1900,2012,3)])\n",
    "plt.show()"
   ]
  },
  {
   "cell_type": "markdown",
   "metadata": {
    "_uuid": "2a710e740a131546b07f7159e0d898e2fe623806"
   },
   "source": [
    "Мы можем подтвердить, что существует постоянная тенденция к повышению и что средняя температура за более чем 100 лет увеличилась с 3,9 до 5,7°C, т.е. на 1,8°C.\n",
    "\n",
    "Разделим данные на обучающий, валидационный и тестовый наборы. После обучения модели будем использовать последние 5 лет для проверки и тестирования данных: 48 месяцев для ежемесячной проверки (проход вперед) и 12 месяцев для экстраполяции на будущее и сравнения с тестовым набором:"
   ]
  },
  {
   "cell_type": "code",
   "execution_count": 8,
   "metadata": {
    "_uuid": "74afa879672a923d4657a1faeb706885967f3498",
    "execution": {
     "iopub.execute_input": "2022-06-29T18:31:33.961522Z",
     "iopub.status.busy": "2022-06-29T18:31:33.961301Z",
     "iopub.status.idle": "2022-06-29T18:31:33.967366Z",
     "shell.execute_reply": "2022-06-29T18:31:33.966119Z",
     "shell.execute_reply.started": "2022-06-29T18:31:33.961479Z"
    }
   },
   "outputs": [],
   "source": [
    "train = rio[:-60].copy()\n",
    "val = rio[-60:-12].copy()\n",
    "test = rio[-12:].copy()"
   ]
  },
  {
   "cell_type": "markdown",
   "metadata": {
    "_uuid": "381912fc2850191c1c3dc0a4f7516348a83274f8"
   },
   "source": [
    "Перед прогнозанием при помощи модели мы создадим базовый прогноз для валидационного набора, в нашем моделировании мы постараемся получить меньшую ошибку по сравнению с этой.\n",
    "\n",
    "Он будет учитывать предыдущий месяц в качестве базового прогноза на следующий месяц:"
   ]
  },
  {
   "cell_type": "code",
   "execution_count": 9,
   "metadata": {
    "_uuid": "698b4603160233cb777fcfccf7f5030a61379547",
    "execution": {
     "iopub.execute_input": "2022-06-29T18:31:33.969098Z",
     "iopub.status.busy": "2022-06-29T18:31:33.968815Z",
     "iopub.status.idle": "2022-06-29T18:31:33.982047Z",
     "shell.execute_reply": "2022-06-29T18:31:33.981198Z",
     "shell.execute_reply.started": "2022-06-29T18:31:33.969048Z"
    }
   },
   "outputs": [],
   "source": [
    "# Excluding the first line, as it has NaN values\n",
    "baseline = val['Temp'].shift()\n",
    "baseline.dropna(inplace=True)\n",
    "baseline.head()"
   ]
  },
  {
   "cell_type": "markdown",
   "metadata": {
    "_uuid": "464f004a1dad131efcf93a08697c24bafc7605b3"
   },
   "source": [
    "Также мы создадим функцию, чтобы использовать [RMSE](https://en.wikipedia.org/wiki/Root-mean-square_deviation) для вычисления ошибок:"
   ]
  },
  {
   "cell_type": "code",
   "execution_count": 27,
   "metadata": {
    "_uuid": "1be0502eac073a3ec31bac0a7e9f2d73a48034ed",
    "execution": {
     "iopub.execute_input": "2022-06-29T18:53:33.657115Z",
     "iopub.status.busy": "2022-06-29T18:53:33.656438Z",
     "iopub.status.idle": "2022-06-29T18:53:33.663731Z",
     "shell.execute_reply": "2022-06-29T18:53:33.662955Z",
     "shell.execute_reply.started": "2022-06-29T18:53:33.657061Z"
    }
   },
   "outputs": [],
   "source": [
    "def measure_rmse(y_true, y_pred):\n",
    "    return sqrt(mean_squared_error(y_true,y_pred))\n",
    "\n",
    "# Using the function with the baseline values\n",
    "rmse_base = measure_rmse(val.iloc[1:,0],baseline)\n",
    "print(f'The RMSE of the baseline that we will try to diminish is {round(rmse_base,4)} celsius degrees')"
   ]
  },
  {
   "cell_type": "markdown",
   "metadata": {
    "_uuid": "eb41cd1807bbd76bf576fc8210ed09a09e2dfd3b"
   },
   "source": [
    "Как мы можем видеть, рял имеет небольшой восходящий тренд, и, похоже, существует некоторая сезонность с более высокими температурами в середине года и более низкими температурами в начале и конце.\n",
    "\n",
    "Чтобы создать прогноз временного ряда, ряд должен быть стационарным (постоянное среднее значение, дисперсия и автокорреляция).\n",
    "\n",
    "Один из способов проверить, является ли ряд стационарным, - это использовать  **adfuller function**, если P-value меньше 5%, ряд является стационарным, и можно приступать к созданию модели. \n",
    "\n",
    "Если ряд не является стационарным, можно выполнить преобразования данных, например, использовать натуральный логарифм.\n",
    "\n",
    "Ниже приведена функция, которую мы использовали для проверки стационарности, она отображает: \n",
    "\n",
    " * Сам ряд;\n",
    " * Функция автокорреляции **(ACF)**:\n",
    "     * Она показывает корреляцию между текущими температурами и версией самой себя с задержкой.\n",
    " * Частичная автокорреляция **(PACF)**:\n",
    "     * Она показывает корреляцию между текущими температурами и версией с задержкой, исключая влияние более ранних задержек, например, она показывает эффективное влияние задержки 3 на текущие температуры, исключая влияние задержек 1 и 2."
   ]
  },
  {
   "cell_type": "code",
   "execution_count": 11,
   "metadata": {
    "_uuid": "e13ffe3696e6bc9f2e739ff0ba1db6b40aca2c58",
    "execution": {
     "iopub.execute_input": "2022-06-29T18:31:33.995456Z",
     "iopub.status.busy": "2022-06-29T18:31:33.994930Z",
     "iopub.status.idle": "2022-06-29T18:31:34.004253Z",
     "shell.execute_reply": "2022-06-29T18:31:34.003246Z",
     "shell.execute_reply.started": "2022-06-29T18:31:33.995197Z"
    }
   },
   "outputs": [],
   "source": [
    "def check_stationarity(y, lags_plots=48, figsize=(22,8)):\n",
    "    \"Use Series as parameter\"\n",
    "    \n",
    "    # Creating plots of the DF\n",
    "    y = pd.Series(y)\n",
    "    fig = plt.figure()\n",
    "\n",
    "    ax1 = plt.subplot2grid((3, 3), (0, 0), colspan=2)\n",
    "    ax2 = plt.subplot2grid((3, 3), (1, 0))\n",
    "    ax3 = plt.subplot2grid((3, 3), (1, 1))\n",
    "    ax4 = plt.subplot2grid((3, 3), (2, 0), colspan=2)\n",
    "\n",
    "    y.plot(ax=ax1, figsize=figsize)\n",
    "    ax1.set_title('Rio de Janeiro Temperature Variation')\n",
    "    plot_acf(y, lags=lags_plots, zero=False, ax=ax2);\n",
    "    plot_pacf(y, lags=lags_plots, zero=False, ax=ax3);\n",
    "    sns.distplot(y, bins=int(sqrt(len(y))), ax=ax4)\n",
    "    ax4.set_title('Distribution Chart')\n",
    "\n",
    "    plt.tight_layout()\n",
    "    \n",
    "    print('Results of Dickey-Fuller Test:')\n",
    "    adfinput = adfuller(y)\n",
    "    adftest = pd.Series(adfinput[0:4], index=['Test Statistic','p-value','Lags Used','Number of Observations Used'])\n",
    "    adftest = round(adftest,4)\n",
    "    \n",
    "    for key, value in adfinput[4].items():\n",
    "        adftest[\"Critical Value (%s)\"%key] = value.round(4)\n",
    "        \n",
    "    print(adftest)\n",
    "    \n",
    "    if adftest[0].round(2) < adftest[5].round(2):\n",
    "        print('\\nThe Test Statistics is lower than the Critical Value of 5%.\\nThe serie seems to be stationary')\n",
    "    else:\n",
    "        print(\"\\nThe Test Statistics is higher than the Critical Value of 5%.\\nThe serie isn't stationary\")"
   ]
  },
  {
   "cell_type": "code",
   "execution_count": 12,
   "metadata": {
    "_uuid": "a679135a4bc49576647892edd1129091c44e3a97",
    "execution": {
     "iopub.execute_input": "2022-06-29T18:31:34.005806Z",
     "iopub.status.busy": "2022-06-29T18:31:34.005341Z",
     "iopub.status.idle": "2022-06-29T18:31:35.279647Z",
     "shell.execute_reply": "2022-06-29T18:31:35.278886Z",
     "shell.execute_reply.started": "2022-06-29T18:31:34.005727Z"
    }
   },
   "outputs": [],
   "source": [
    "# The first approach is to check the series without any transformation\n",
    "check_stationarity(train['Temp'])"
   ]
  },
  {
   "cell_type": "markdown",
   "metadata": {
    "_uuid": "2ca000e74194e548482d619ef98d20416a381427"
   },
   "source": [
    "Ряд имеет интересное поведение, существует последовательная значимая отрицательная автокорреляция, начинающаяся с 6 лага и повторяющаяся каждые 12 месяцев, это происходит из-за разницы температур в сезонах. Если в этом году будет холодная зима, через 6 месяцев у нас будет более жаркое лето, поэтому возникает отрицательная автокорреляция. Летняя и зимняя температуры обычно движутся в противоположных направлениях.\n",
    "\n",
    "Кроме того, начиная с 12 лага существует и повторяется каждые 12 лагов положительная автокорреляция. **PACF** показывает положительный пик в первом лаге и падение до отрицательного **PACF** в последующих лагах.\n",
    "\n",
    "Такая форма графиков **ACF** и **PACF** предполагает модель AR(1) и первую сезонную разницу ($Y_{t} - Y_{t-12}$). Построим снова график функции стационарности с первой сезонной разницей, чтобы увидеть, понадобятся ли параметры SAR(P) или SMA(Q):"
   ]
  },
  {
   "cell_type": "code",
   "execution_count": 13,
   "metadata": {
    "_uuid": "9d8c35f82870fcc46d4186a1d8f98201d8b0e6b8",
    "execution": {
     "iopub.execute_input": "2022-06-29T18:31:35.281329Z",
     "iopub.status.busy": "2022-06-29T18:31:35.281011Z",
     "iopub.status.idle": "2022-06-29T18:31:36.486548Z",
     "shell.execute_reply": "2022-06-29T18:31:36.485580Z",
     "shell.execute_reply.started": "2022-06-29T18:31:35.281272Z"
    }
   },
   "outputs": [],
   "source": [
    "check_stationarity(train['Temp'].diff(12).dropna())"
   ]
  },
  {
   "cell_type": "markdown",
   "metadata": {
    "_uuid": "8d499eb7033fcd976dad639fd08033c5cef57c37"
   },
   "source": [
    "Как показали графики выше, первые задержки **ACF** имеют постепенное затухание, в то время как **PACF** падает ниже доверительного интервала после третьего запаздывания, это указывает на **AR** с параметром 3, значит это **AR(3)** модель.\n",
    "\n",
    "Поскольку мы использовали первую сезонную разницу, **ACF** и **PACF** показали значительное снижение 12-го лага, это указывает на **SMA** с параметром запаздывания 1, т.е. это **SAR(1) с первой разницей**.\n",
    "\n",
    "Мы будем работать со переменными (p, d, q) равными (3, 0, 0) и с сезонными переменными (P, D, Q, S) равными (0,1,1,12). Поскольку ряд имеет четкий восходящий тренд, будем использовать модель с параметром тренда ('c'). \n",
    " \n",
    "Чтобы начать прогнозировать валидационный набор, создадим функцию для использования одношагового прогноза во всем валидационном наборе и измерю ошибки:"
   ]
  },
  {
   "cell_type": "code",
   "execution_count": 14,
   "metadata": {
    "_uuid": "00fffafae7a58bfbb937164765047a756c11f401",
    "execution": {
     "iopub.execute_input": "2022-06-29T18:31:36.488019Z",
     "iopub.status.busy": "2022-06-29T18:31:36.487734Z",
     "iopub.status.idle": "2022-06-29T18:31:36.493814Z",
     "shell.execute_reply": "2022-06-29T18:31:36.492962Z",
     "shell.execute_reply.started": "2022-06-29T18:31:36.487968Z"
    }
   },
   "outputs": [],
   "source": [
    "def walk_forward(training_set, validation_set, params):\n",
    "    '''\n",
    "    Params: it's a tuple where you put together the following SARIMA parameters: ((pdq), (PDQS), trend)\n",
    "    '''\n",
    "    history = [x for x in training_set.values]\n",
    "    prediction = list()\n",
    "    \n",
    "    # Using the SARIMA parameters and fitting the data\n",
    "    pdq, PDQS, trend = params\n",
    "\n",
    "    #Forecasting one period ahead in the validation set\n",
    "    for week in range(len(validation_set)):\n",
    "        model = sm.tsa.statespace.SARIMAX(history, order=pdq, seasonal_order=PDQS, trend=trend)\n",
    "        result = model.fit(disp=False)\n",
    "        yhat = result.predict(start=len(history), end=len(history))\n",
    "        prediction.append(yhat[0])\n",
    "        history.append(validation_set[week])\n",
    "        \n",
    "    return prediction"
   ]
  },
  {
   "cell_type": "code",
   "execution_count": 15,
   "metadata": {
    "_uuid": "f38e7aac69c42217c77e54c84c86a7396a420281",
    "execution": {
     "iopub.execute_input": "2022-06-29T18:31:36.495260Z",
     "iopub.status.busy": "2022-06-29T18:31:36.495018Z",
     "iopub.status.idle": "2022-06-29T18:40:04.121247Z",
     "shell.execute_reply": "2022-06-29T18:40:04.119140Z",
     "shell.execute_reply.started": "2022-06-29T18:31:36.495212Z"
    }
   },
   "outputs": [],
   "source": [
    "# Let's test it in the validation set\n",
    "val['Pred'] = walk_forward(train['Temp'], val['Temp'], ((3,0,0),(0,1,1,12),'c'))"
   ]
  },
  {
   "cell_type": "code",
   "execution_count": 16,
   "metadata": {
    "_uuid": "5f6ec1dd3cafb453c4f753fd6c2e7b4a0a041cb2",
    "execution": {
     "iopub.execute_input": "2022-06-29T18:40:04.124291Z",
     "iopub.status.busy": "2022-06-29T18:40:04.123561Z",
     "iopub.status.idle": "2022-06-29T18:40:04.136557Z",
     "shell.execute_reply": "2022-06-29T18:40:04.135625Z",
     "shell.execute_reply.started": "2022-06-29T18:40:04.124229Z"
    }
   },
   "outputs": [],
   "source": [
    "# Measuring the error of the prediction\n",
    "rmse_pred = measure_rmse(val['Temp'], val['Pred'])\n",
    "\n",
    "print(f\"The RMSE of the SARIMA(3,0,0),(0,1,1,12),'c' model was {round(rmse_pred,4)} celsius degrees\")\n",
    "print(f\"It's a decrease of {round((rmse_pred/rmse_base-1)*100,2)}% in the RMSE\")"
   ]
  },
  {
   "cell_type": "code",
   "execution_count": 17,
   "metadata": {
    "_uuid": "43aaaffb83105fb20a86c3244d7d672c96b33d20",
    "execution": {
     "iopub.execute_input": "2022-06-29T18:40:04.139287Z",
     "iopub.status.busy": "2022-06-29T18:40:04.138599Z",
     "iopub.status.idle": "2022-06-29T18:40:04.185262Z",
     "shell.execute_reply": "2022-06-29T18:40:04.184501Z",
     "shell.execute_reply.started": "2022-06-29T18:40:04.139227Z"
    }
   },
   "outputs": [],
   "source": [
    "# Creating the error column\n",
    "val['Error'] = val['Temp'] - val['Pred']"
   ]
  },
  {
   "cell_type": "markdown",
   "metadata": {
    "_uuid": "b0d4d3117ebb29320a9e47b5c1e8e7cbcaf8a6d2"
   },
   "source": [
    "Чтобы проверить остатки, создадим функцию для построения графиков, помогающих их визуализировать.\n",
    "\n",
    "Построим следующие графики:\n",
    "* Текущие и прогнозируемые значения с течением времени.\n",
    "* Остатки по сравнению с прогнозируемыми значениями на точечном графике.\n",
    "* График квантиль-квантиль, показывающий распределение ошибок и его идеальное распределение.\n",
    "* График автокорреляции остатков, чтобы увидеть, осталась ли какая-то корреляция."
   ]
  },
  {
   "cell_type": "code",
   "execution_count": 18,
   "metadata": {
    "_uuid": "8eb5e920af6c5823340c00503c82c71575f6f005",
    "execution": {
     "iopub.execute_input": "2022-06-29T18:40:04.187764Z",
     "iopub.status.busy": "2022-06-29T18:40:04.187063Z",
     "iopub.status.idle": "2022-06-29T18:40:04.196680Z",
     "shell.execute_reply": "2022-06-29T18:40:04.196003Z",
     "shell.execute_reply.started": "2022-06-29T18:40:04.187683Z"
    }
   },
   "outputs": [],
   "source": [
    "def plot_error(data, figsize=(20,8)):\n",
    "    '''\n",
    "    There must have 3 columns following this order: Temperature, Prediction, Error\n",
    "    '''\n",
    "    plt.figure(figsize=figsize)\n",
    "    ax1 = plt.subplot2grid((2,2), (0,0))\n",
    "    ax2 = plt.subplot2grid((2,2), (0,1))\n",
    "    ax3 = plt.subplot2grid((2,2), (1,0))\n",
    "    ax4 = plt.subplot2grid((2,2), (1,1))\n",
    "    \n",
    "    #Plotting the Current and Predicted values\n",
    "    ax1.plot(data.iloc[:,0:2])\n",
    "    ax1.legend(['Real','Pred'])\n",
    "    ax1.set_title('Current and Predicted Values')\n",
    "    \n",
    "    # Residual vs Predicted values\n",
    "    ax2.scatter(data.iloc[:,1], data.iloc[:,2])\n",
    "    ax2.set_xlabel('Predicted Values')\n",
    "    ax2.set_ylabel('Errors')\n",
    "    ax2.set_title('Errors versus Predicted Values')\n",
    "    \n",
    "    ## QQ Plot of the residual\n",
    "    sm.graphics.qqplot(data.iloc[:,2], line='r', ax=ax3)\n",
    "    \n",
    "    # Autocorrelation plot of the residual\n",
    "    plot_acf(data.iloc[:,2], lags=(len(data.iloc[:,2])-1),zero=False, ax=ax4)\n",
    "    plt.tight_layout()\n",
    "    plt.show()"
   ]
  },
  {
   "cell_type": "code",
   "execution_count": 19,
   "metadata": {
    "_uuid": "94e855ba19e3fb8f6e0f91e55c3dfb2ff26f86bc",
    "execution": {
     "iopub.execute_input": "2022-06-29T18:40:04.198842Z",
     "iopub.status.busy": "2022-06-29T18:40:04.198183Z",
     "iopub.status.idle": "2022-06-29T18:40:04.226042Z",
     "shell.execute_reply": "2022-06-29T18:40:04.225137Z",
     "shell.execute_reply.started": "2022-06-29T18:40:04.198780Z"
    }
   },
   "outputs": [],
   "source": [
    "# We need to remove some columns to plot the charts\n",
    "val.drop(['month','year'], axis=1, inplace=True)\n",
    "val.head()"
   ]
  },
  {
   "cell_type": "code",
   "execution_count": 20,
   "metadata": {
    "_uuid": "879bb8c9d859badf80f269516280e92f6af5d928",
    "execution": {
     "iopub.execute_input": "2022-06-29T18:40:04.227869Z",
     "iopub.status.busy": "2022-06-29T18:40:04.227371Z",
     "iopub.status.idle": "2022-06-29T18:40:04.962333Z",
     "shell.execute_reply": "2022-06-29T18:40:04.961249Z",
     "shell.execute_reply.started": "2022-06-29T18:40:04.227810Z"
    }
   },
   "outputs": [],
   "source": [
    "plot_error(val)"
   ]
  },
  {
   "cell_type": "markdown",
   "metadata": {
    "_uuid": "da3c399aa031ae871b8196b590e19d2aac985c0a"
   },
   "source": [
    "Анализируя приведенные выше графики, мы видим, что прогнозы очень хорошо согласуются с текущими значениями.\n",
    "\n",
    "График **ошибка - прогнозное значение** имеет линейное распределение (погрешности находятся в диапазоне от -4 до +6).\n",
    "\n",
    "График квантиль-квантиль показывает нормальную картину с некоторыми небольшими отклонениями.\n",
    "\n",
    "График автокорреляции не показывает выбросов по доверительному интервалу.\n",
    "\n",
    "Теперь можно экстраполировать прогноз на **тестовый набор** за последние 12 месяцев."
   ]
  },
  {
   "cell_type": "code",
   "execution_count": 21,
   "metadata": {
    "_uuid": "58d266f5dde23bc097bf21db82df6ac2d47d02a4",
    "execution": {
     "iopub.execute_input": "2022-06-29T18:40:04.964243Z",
     "iopub.status.busy": "2022-06-29T18:40:04.963917Z",
     "iopub.status.idle": "2022-06-29T18:40:04.974647Z",
     "shell.execute_reply": "2022-06-29T18:40:04.973666Z",
     "shell.execute_reply.started": "2022-06-29T18:40:04.964185Z"
    }
   },
   "outputs": [],
   "source": [
    "#Creating the new concatenating the training and validation set:\n",
    "future = pd.concat([train['Temp'], val['Temp']])\n",
    "future.head()"
   ]
  },
  {
   "cell_type": "code",
   "execution_count": 22,
   "metadata": {
    "_uuid": "dc6560a6f4a31563eaa89f3c13571a96712b0b5c",
    "execution": {
     "iopub.execute_input": "2022-06-29T18:40:04.977043Z",
     "iopub.status.busy": "2022-06-29T18:40:04.976322Z",
     "iopub.status.idle": "2022-06-29T18:40:16.380788Z",
     "shell.execute_reply": "2022-06-29T18:40:16.379607Z",
     "shell.execute_reply.started": "2022-06-29T18:40:04.976984Z"
    }
   },
   "outputs": [],
   "source": [
    "# Using the same parameters of the fitted model\n",
    "model = sm.tsa.statespace.SARIMAX(future, order=(3,0,0), seasonal_order=(0,1,1,12), trend='c')\n",
    "result = model.fit(disp=False)"
   ]
  },
  {
   "cell_type": "markdown",
   "metadata": {
    "_uuid": "67db2b62b528d188329093fff95be328c7921f14"
   },
   "source": [
    "Теперь создадим новый столбец в тестовом наборе с прогнозными значениями и сравним их с реальными значениями."
   ]
  },
  {
   "cell_type": "code",
   "execution_count": 23,
   "metadata": {
    "_uuid": "6d014d105bef271120431b54ad0d6871b3e3cc0d",
    "execution": {
     "iopub.execute_input": "2022-06-29T18:40:16.383495Z",
     "iopub.status.busy": "2022-06-29T18:40:16.382701Z",
     "iopub.status.idle": "2022-06-29T18:40:16.618781Z",
     "shell.execute_reply": "2022-06-29T18:40:16.617885Z",
     "shell.execute_reply.started": "2022-06-29T18:40:16.383418Z"
    }
   },
   "outputs": [],
   "source": [
    "test['Pred'] = result.predict(start=(len(future)), end=(len(future)+13))"
   ]
  },
  {
   "cell_type": "code",
   "execution_count": 24,
   "metadata": {
    "_uuid": "0eeb5bd5b7160f3b3fb1bac4abbe5f7cb3983bf3",
    "execution": {
     "iopub.execute_input": "2022-06-29T18:40:16.620090Z",
     "iopub.status.busy": "2022-06-29T18:40:16.619844Z",
     "iopub.status.idle": "2022-06-29T18:40:17.020923Z",
     "shell.execute_reply": "2022-06-29T18:40:17.020318Z",
     "shell.execute_reply.started": "2022-06-29T18:40:16.620042Z"
    }
   },
   "outputs": [],
   "source": [
    "test[['Temp', 'Pred']].plot(figsize=(22,6))\n",
    "plt.title('Current Values compared to the Extrapolated Ones')\n",
    "plt.show()"
   ]
  },
  {
   "cell_type": "markdown",
   "metadata": {
    "_uuid": "e716e94396ea93c068c4bfcbdb46920e0ec8edcb"
   },
   "source": [
    "Похоже, что параметры SARIMA были хорошо подобраны, прогнозируемые значения соответствуют и реальным значениям, и сезоннму паттерну.\n",
    "\n",
    "Наконец, оценим модель с помощью RMSE в тестовом наборе:"
   ]
  },
  {
   "cell_type": "code",
   "execution_count": 25,
   "metadata": {
    "_uuid": "07c72fc8637d620f00a95497ea48d9f1a1b213e1",
    "execution": {
     "iopub.execute_input": "2022-06-29T18:40:17.022234Z",
     "iopub.status.busy": "2022-06-29T18:40:17.021882Z",
     "iopub.status.idle": "2022-06-29T18:40:17.029831Z",
     "shell.execute_reply": "2022-06-29T18:40:17.029039Z",
     "shell.execute_reply.started": "2022-06-29T18:40:17.022180Z"
    }
   },
   "outputs": [],
   "source": [
    "test_baseline = test['Temp'].shift()\n",
    "\n",
    "test_baseline[0] = test['Temp'][0]\n",
    "\n",
    "rmse_test_base = measure_rmse(test['Temp'],test_baseline)\n",
    "rmse_test_extrap = measure_rmse(test['Temp'], test['Pred'])\n",
    "\n",
    "print(f'The baseline RMSE for the test baseline was {round(rmse_test_base,2)} celsius degrees')\n",
    "print(f'The baseline RMSE for the test extrapolation was {round(rmse_test_extrap,2)} celsius degrees')\n",
    "print(f'That is an improvement of {-round((rmse_test_extrap/rmse_test_base-1)*100,2)}%')"
   ]
  }
 ],
 "metadata": {
  "kernelspec": {
   "display_name": "Python 3 (ipykernel)",
   "language": "python",
   "name": "python3"
  },
  "language_info": {
   "codemirror_mode": {
    "name": "ipython",
    "version": 3
   },
   "file_extension": ".py",
   "mimetype": "text/x-python",
   "name": "python",
   "nbconvert_exporter": "python",
   "pygments_lexer": "ipython3",
   "version": "3.9.7"
  }
 },
 "nbformat": 4,
 "nbformat_minor": 4
}
